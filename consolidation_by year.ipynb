{
 "cells": [
  {
   "cell_type": "code",
   "execution_count": 1,
   "metadata": {},
   "outputs": [],
   "source": [
    "import pandas as pd\n",
    "import os\n"
   ]
  },
  {
   "cell_type": "code",
   "execution_count": 2,
   "metadata": {},
   "outputs": [],
   "source": [
    "def find_xlsx_files(directory:str):\n",
    "    found_files = []  \n",
    "    for root, dirs, files in os.walk(directory):\n",
    "        for f in files:\n",
    "            if f.endswith(\".xlsx\"):\n",
    "                found_files.append(os.path.join(root, f))\n",
    "    return found_files\n"
   ]
  },
  {
   "cell_type": "code",
   "execution_count": 16,
   "metadata": {},
   "outputs": [
    {
     "name": "stdout",
     "output_type": "stream",
     "text": [
      "数据已保存到 all.xlsx\n"
     ]
    }
   ],
   "source": [
    "import pandas as pd\n",
    "import os\n",
    "\n",
    "# 获取目录下所有 Excel 文件\n",
    "def find_xlsx_files(directory):\n",
    "    return [os.path.join(directory, f) for f in os.listdir(directory) if f.endswith('.xlsx')]\n",
    "\n",
    "# 获取所有 Excel 文件\n",
    "all_files = find_xlsx_files(\"D://statics//statics//同三\")\n",
    "all_data = pd.DataFrame([])\n",
    "\n",
    "# 遍历所有文件，加载数据并合并\n",
    "for file in all_files:\n",
    "    try:\n",
    "        print(f\"正在处理文件: {file}\")  # 输出正在处理的文件名\n",
    "        df = pd.read_excel(file)\n",
    "        all_data = pd.concat([all_data, df], axis=0, ignore_index=True)\n",
    "    except Exception as e:\n",
    "        print(f\"处理文件 {file} 时发生错误: {e}\")  # 错误处理\n",
    "\n",
    "# 去除重复的桥梁名称，只保留一行\n",
    "all_data.drop_duplicates(subset=['桥梁名称'], keep='first', inplace=True)\n",
    "\n",
    "# 重置索引并保存合并后的数据\n",
    "all_data.reset_index(drop=True, inplace=True)\n",
    "all_data.to_excel(\"D://statics//statics//同三//all.xlsx\", index=False)\n",
    "print(\"数据已保存到 all.xlsx\")\n"
   ]
  }
 ],
 "metadata": {
  "kernelspec": {
   "display_name": "Python 3",
   "language": "python",
   "name": "python3"
  },
  "language_info": {
   "codemirror_mode": {
    "name": "ipython",
    "version": 3
   },
   "file_extension": ".py",
   "mimetype": "text/x-python",
   "name": "python",
   "nbconvert_exporter": "python",
   "pygments_lexer": "ipython3",
   "version": "3.12.5"
  }
 },
 "nbformat": 4,
 "nbformat_minor": 2
}
