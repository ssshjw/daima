{
 "cells": [
  {
   "cell_type": "code",
   "execution_count": 17,
   "metadata": {},
   "outputs": [],
   "source": [
    "import pandas as pd\n",
    "import os"
   ]
  },
  {
   "cell_type": "code",
   "execution_count": 21,
   "metadata": {},
   "outputs": [
    {
     "name": "stdout",
     "output_type": "stream",
     "text": [
      "warning\n",
      "warning\n",
      "warning\n",
      "warning\n",
      "warning\n",
      "warning\n",
      "warning\n",
      "warning\n"
     ]
    }
   ],
   "source": [
    "routes = os.listdir(\"桥梁明细\\\\\")\n",
    "\n",
    "result = {}\n",
    "\n",
    "for route in routes:\n",
    "    file = pd.read_excel(f\"桥梁明细\\\\{route}\")\n",
    "    file[\"汇总\"] = [0]*len(file.index)\n",
    "    i = -2\n",
    "    fullfill_index = []\n",
    "    while True:\n",
    "        file[\"汇总\"] = file[\"汇总\"] + file[file.columns[i]]\n",
    "        if (file[file.columns[i]] == 0).all():\n",
    "            print('warning')\n",
    "            i = i - 1\n",
    "            continue\n",
    "        else:\n",
    "            fullfill_index.append(file.columns[i])\n",
    "            if 0 not in file[\"汇总\"].values:\n",
    "                break\n",
    "            else:\n",
    "                i = i - 1\n",
    "    result[route.replace(\".xlsx\",\"\")] = fullfill_index"
   ]
  },
  {
   "cell_type": "code",
   "execution_count": 22,
   "metadata": {},
   "outputs": [
    {
     "data": {
      "text/plain": [
       "{'S32': [2023, 2022, 2021],\n",
       " '同三': [2023, 2022],\n",
       " '沪芦': [2022, 2021],\n",
       " '沪莘枫1标': [2022],\n",
       " '沪莘枫2标': [2022, 2021],\n",
       " '沪莘枫3标': [2022, 2021, 2020, 2019, 2018],\n",
       " '浦星一标': [2022, 2021],\n",
       " '浦星二标': [2020, 2019]}"
      ]
     },
     "execution_count": 22,
     "metadata": {},
     "output_type": "execute_result"
    }
   ],
   "source": [
    "result"
   ]
  }
 ],
 "metadata": {
  "kernelspec": {
   "display_name": "Python 3",
   "language": "python",
   "name": "python3"
  },
  "language_info": {
   "codemirror_mode": {
    "name": "ipython",
    "version": 3
   },
   "file_extension": ".py",
   "mimetype": "text/x-python",
   "name": "python",
   "nbconvert_exporter": "python",
   "pygments_lexer": "ipython3",
   "version": "3.12.5"
  }
 },
 "nbformat": 4,
 "nbformat_minor": 2
}
